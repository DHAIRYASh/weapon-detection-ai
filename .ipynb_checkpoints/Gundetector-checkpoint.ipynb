{
 "cells": [
  {
   "cell_type": "code",
   "execution_count": null,
   "metadata": {},
   "outputs": [
    {
     "name": "stdout",
     "output_type": "stream",
     "text": [
      "=================================EXECUTION OF THE PROJECT======================================\n",
      "====================================1. TO DETECT THE GUN FROM THE VIDEO========================\n",
      "Enter the number on the basis of the operation you want to perform1\n"
     ]
    }
   ],
   "source": [
    "import numpy as np\n",
    "import cv2\n",
    "import imutils\n",
    "import datetime\n",
    "import os\n",
    "import pandas as pd\n",
    "import time as t\n",
    "import argparse as ap\n",
    "\n",
    "def gundetector():\n",
    "    gun_exist = False\n",
    "    firstFrame = None\n",
    "    camera = cv2.VideoCapture(\"data/video.mp4\")\n",
    "    gun_cascade = cv2.CascadeClassifier(\"cascade.xml\")\n",
    "    while True:\n",
    "        (grabbed,frame)=camera.read()\n",
    "        if not grabbed:\n",
    "          break\n",
    "        frame = imutils.resize(frame, width=500)\n",
    "        gray = cv2.cvtColor(frame, cv2.COLOR_BGR2GRAY)\n",
    "        gray = cv2.GaussianBlur(gray, (21, 21), 0)\n",
    "        gun = gun_cascade.detectMultiScale(gray, 1.3, 5, minSize = (100, 100))\n",
    "        if len(gun) >  0:\n",
    "            gun_exist = True\n",
    "        for (x,y,w,h) in gun:\n",
    "            frame = cv2.rectangle (frame, (x,y), (x+w, y+h), (255,0,0), 2)\n",
    "            roi_gray = gray[y: y+h, x:x+w]\n",
    "            roi_color = frame[y:y+h, x+w]\n",
    "        if firstFrame is None:\n",
    "            firstFrame = gray\n",
    "            continue\n",
    "        cv2.putText(frame, datetime.datetime.now().strftime('%A %d %B %Y %I:%M:%S%p'),(10, frame.shape[0] - 10), cv2.FONT_HERSHEY_SIMPLEX, 0.35, (0, 0, 255), 1)\n",
    "        cv2.imshow('Security Feed', frame)\n",
    "        key = cv2.waitKey(1) & 0xFF\n",
    "    if gun_exist:\n",
    "        print('GUNS DETECTED')\n",
    "    else:\n",
    "        print('GUNS NOT DETECTED')\n",
    "    camera.release()\n",
    "    cv2.destroyAllWindows()\n",
    "print(\"=================================EXECUTION OF THE PROJECT======================================\")\n",
    "print(\"====================================1. TO DETECT THE GUN FROM THE VIDEO========================\")\n",
    "number1=int(input(\"Enter the number on the basis of the operation you want to perform\"))\n",
    "if(number1==1):\n",
    "    gundetector()\n",
    "else:\n",
    "    print(\"Enter the proper number in order to execute the gun video:= \")\n"
   ]
  },
  {
   "cell_type": "code",
   "execution_count": null,
   "metadata": {},
   "outputs": [],
   "source": []
  },
  {
   "cell_type": "code",
   "execution_count": null,
   "metadata": {},
   "outputs": [],
   "source": []
  }
 ],
 "metadata": {
  "kernelspec": {
   "display_name": "Python 3",
   "language": "python",
   "name": "python3"
  },
  "language_info": {
   "codemirror_mode": {
    "name": "ipython",
    "version": 3
   },
   "file_extension": ".py",
   "mimetype": "text/x-python",
   "name": "python",
   "nbconvert_exporter": "python",
   "pygments_lexer": "ipython3",
   "version": "3.7.6"
  }
 },
 "nbformat": 4,
 "nbformat_minor": 4
}
